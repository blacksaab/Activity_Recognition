{
 "cells": [
  {
   "cell_type": "code",
   "execution_count": 2,
   "metadata": {},
   "outputs": [],
   "source": [
    "import numpy as np\n",
    "import pandas as pd\n",
    "import seaborn as sns\n",
    "from matplotlib import pyplot as plt "
   ]
  },
  {
   "cell_type": "code",
   "execution_count": 14,
   "metadata": {},
   "outputs": [],
   "source": [
    "body_acc_x = pd.read_table('data/UCI HAR Dataset/UCI HAR Dataset/train/Inertial Signals/body_acc_x_train.txt', header=None, sep = r'\\s+|,', engine='python')\n",
    "body_acc_y = pd.read_table('data/UCI HAR Dataset/UCI HAR Dataset/train/Inertial Signals/body_acc_y_train.txt', header=None, sep = r'\\s+|,', engine='python')\n",
    "body_acc_z = pd.read_table('data/UCI HAR Dataset/UCI HAR Dataset/train/Inertial Signals/body_acc_z_train.txt', header=None, sep = r'\\s+|,', engine='python')\n",
    "\n",
    "body_gyro_x = pd.read_table('data/UCI HAR Dataset/UCI HAR Dataset/train/Inertial Signals/body_gyro_x_train.txt', header=None, sep = r'\\s+|,', engine='python')\n",
    "body_gyro_y = pd.read_table('data/UCI HAR Dataset/UCI HAR Dataset/train/Inertial Signals/body_gyro_y_train.txt', header=None, sep = r'\\s+|,', engine='python')\n",
    "body_gyro_z = pd.read_table('data/UCI HAR Dataset/UCI HAR Dataset/train/Inertial Signals/body_gyro_z_train.txt', header=None, sep = r'\\s+|,', engine='python')\n",
    "\n",
    "total_acc_x = pd.read_table('data/UCI HAR Dataset/UCI HAR Dataset/train/Inertial Signals/total_acc_x_train.txt', header=None, sep = r'\\s+|,', engine='python')\n",
    "total_acc_y = pd.read_table('data/UCI HAR Dataset/UCI HAR Dataset/train/Inertial Signals/total_acc_y_train.txt', header=None, sep = r'\\s+|,', engine='python')\n",
    "total_acc_z = pd.read_table('data/UCI HAR Dataset/UCI HAR Dataset/train/Inertial Signals/total_acc_z_train.txt', header=None, sep = r'\\s+|,', engine='python')"
   ]
  },
  {
   "cell_type": "code",
   "execution_count": 13,
   "metadata": {},
   "outputs": [
    {
     "data": {
      "text/plain": [
       "(7352, 128)"
      ]
     },
     "execution_count": 13,
     "metadata": {},
     "output_type": "execute_result"
    }
   ],
   "source": []
  }
 ],
 "metadata": {
  "kernelspec": {
   "display_name": "Python 3",
   "language": "python",
   "name": "python3"
  },
  "language_info": {
   "codemirror_mode": {
    "name": "ipython",
    "version": 3
   },
   "file_extension": ".py",
   "mimetype": "text/x-python",
   "name": "python",
   "nbconvert_exporter": "python",
   "pygments_lexer": "ipython3",
   "version": "3.11.4"
  }
 },
 "nbformat": 4,
 "nbformat_minor": 2
}
